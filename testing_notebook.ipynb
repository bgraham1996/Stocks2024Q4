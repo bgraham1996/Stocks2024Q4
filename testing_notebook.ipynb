{
 "cells": [
  {
   "cell_type": "code",
   "execution_count": 1,
   "metadata": {},
   "outputs": [],
   "source": [
    "import pandas as pd\n",
    "import numpy as np\n",
    "import os\n",
    "import datetime as dt"
   ]
  },
  {
   "cell_type": "code",
   "execution_count": 3,
   "metadata": {},
   "outputs": [],
   "source": [
    "import main as m"
   ]
  },
  {
   "cell_type": "code",
   "execution_count": 4,
   "metadata": {},
   "outputs": [
    {
     "name": "stdout",
     "output_type": "stream",
     "text": [
      "GILD\n",
      "<class 'pandas.core.frame.DataFrame'>\n",
      "Data Downloaded and Processed\n",
      "EQIX\n",
      "<class 'pandas.core.frame.DataFrame'>\n",
      "Data Downloaded and Processed\n",
      "PODD\n",
      "<class 'pandas.core.frame.DataFrame'>\n",
      "Data Downloaded and Processed\n",
      "MDT\n",
      "<class 'pandas.core.frame.DataFrame'>\n",
      "Data Downloaded and Processed\n",
      "HCA\n",
      "<class 'pandas.core.frame.DataFrame'>\n",
      "Data Downloaded and Processed\n",
      "LH\n",
      "<class 'pandas.core.frame.DataFrame'>\n",
      "Data Downloaded and Processed\n",
      "IQV\n",
      "<class 'pandas.core.frame.DataFrame'>\n",
      "Data Downloaded and Processed\n",
      "LLY\n",
      "<class 'pandas.core.frame.DataFrame'>\n",
      "Data Downloaded and Processed\n",
      "MRK\n",
      "<class 'pandas.core.frame.DataFrame'>\n",
      "Data Downloaded and Processed\n",
      "ABBV\n",
      "<class 'pandas.core.frame.DataFrame'>\n",
      "Data Downloaded and Processed\n",
      "CAT\n",
      "<class 'pandas.core.frame.DataFrame'>\n",
      "Data Downloaded and Processed\n",
      "AMZN\n",
      "<class 'pandas.core.frame.DataFrame'>\n",
      "Data Downloaded and Processed\n",
      "BDX\n",
      "<class 'pandas.core.frame.DataFrame'>\n",
      "Data Downloaded and Processed\n",
      "DXCM\n",
      "<class 'pandas.core.frame.DataFrame'>\n",
      "Data Downloaded and Processed\n",
      "MMM\n",
      "<class 'pandas.core.frame.DataFrame'>\n",
      "Data Downloaded and Processed\n",
      "ADSK\n",
      "<class 'pandas.core.frame.DataFrame'>\n",
      "Data Downloaded and Processed\n",
      "PYPL\n",
      "<class 'pandas.core.frame.DataFrame'>\n",
      "Data Downloaded and Processed\n",
      "MSFT\n",
      "<class 'pandas.core.frame.DataFrame'>\n",
      "Data Downloaded and Processed\n",
      "DD\n",
      "<class 'pandas.core.frame.DataFrame'>\n",
      "Data Downloaded and Processed\n",
      "EW\n",
      "<class 'pandas.core.frame.DataFrame'>\n",
      "Data Downloaded and Processed\n",
      "AMD\n",
      "<class 'pandas.core.frame.DataFrame'>\n",
      "Data Downloaded and Processed\n",
      "NDAQ\n",
      "<class 'pandas.core.frame.DataFrame'>\n",
      "Data Downloaded and Processed\n",
      "BIIB\n",
      "<class 'pandas.core.frame.DataFrame'>\n",
      "Data Downloaded and Processed\n",
      "NVDA\n",
      "<class 'pandas.core.frame.DataFrame'>\n",
      "Data Downloaded and Processed\n",
      "INCY\n",
      "<class 'pandas.core.frame.DataFrame'>\n",
      "Data Downloaded and Processed\n",
      "HPE\n",
      "<class 'pandas.core.frame.DataFrame'>\n",
      "Data Downloaded and Processed\n",
      "USB\n",
      "<class 'pandas.core.frame.DataFrame'>\n",
      "Data Downloaded and Processed\n",
      "MCO\n",
      "<class 'pandas.core.frame.DataFrame'>\n",
      "Data Downloaded and Processed\n",
      "CLX\n",
      "<class 'pandas.core.frame.DataFrame'>\n",
      "Data Downloaded and Processed\n",
      "CAH\n",
      "<class 'pandas.core.frame.DataFrame'>\n",
      "Data Downloaded and Processed\n",
      "DGX\n",
      "<class 'pandas.core.frame.DataFrame'>\n",
      "Data Downloaded and Processed\n",
      "JPM\n",
      "<class 'pandas.core.frame.DataFrame'>\n",
      "Data Downloaded and Processed\n",
      "ABT\n",
      "<class 'pandas.core.frame.DataFrame'>\n",
      "Data Downloaded and Processed\n",
      "MRNA\n",
      "<class 'pandas.core.frame.DataFrame'>\n",
      "Data Downloaded and Processed\n",
      "TSLA\n",
      "<class 'pandas.core.frame.DataFrame'>\n",
      "Data Downloaded and Processed\n",
      "GOOGL\n",
      "<class 'pandas.core.frame.DataFrame'>\n",
      "Data Downloaded and Processed\n",
      "META\n",
      "<class 'pandas.core.frame.DataFrame'>\n",
      "Data Downloaded and Processed\n",
      "GOOG\n",
      "<class 'pandas.core.frame.DataFrame'>\n",
      "Data Downloaded and Processed\n",
      "PFE\n",
      "<class 'pandas.core.frame.DataFrame'>\n",
      "Data Downloaded and Processed\n",
      "REGN\n",
      "<class 'pandas.core.frame.DataFrame'>\n",
      "Data Downloaded and Processed\n",
      "VZ\n",
      "<class 'pandas.core.frame.DataFrame'>\n",
      "Data Downloaded and Processed\n",
      "AMGN\n",
      "<class 'pandas.core.frame.DataFrame'>\n",
      "Data Downloaded and Processed\n",
      "MA\n",
      "<class 'pandas.core.frame.DataFrame'>\n",
      "Data Downloaded and Processed\n",
      "AAPL\n",
      "<class 'pandas.core.frame.DataFrame'>\n",
      "Data Downloaded and Processed\n",
      "BMY\n",
      "<class 'pandas.core.frame.DataFrame'>\n",
      "Data Downloaded and Processed\n",
      "JNJ\n",
      "<class 'pandas.core.frame.DataFrame'>\n",
      "Data Downloaded and Processed\n",
      "DOV\n",
      "<class 'pandas.core.frame.DataFrame'>\n",
      "Data Downloaded and Processed\n",
      "IEX\n",
      "<class 'pandas.core.frame.DataFrame'>\n",
      "Data Downloaded and Processed\n"
     ]
    }
   ],
   "source": [
    "# testing data retrival and processing\n",
    "\n",
    "tickers = ['GILD', 'EQIX', 'PODD', 'MDT', 'HCA', 'LH', 'IQV', 'LLY', 'MRK', 'ABBV', 'CAT', 'AMZN', 'BDX', 'DXCM', 'MMM', 'ADSK', 'PYPL', 'MSFT', 'DD', 'EW', 'AMD', 'NDAQ', 'BIIB', 'NVDA', 'INCY', 'HPE', 'USB', 'MCO', 'CLX', 'CAH', 'DGX', 'JPM', 'ABT', 'MRNA', 'TSLA', 'GOOGL', 'META', 'GOOG', 'PFE', 'REGN', 'VZ', 'AMGN', 'MA', 'AAPL', 'BMY', 'JNJ', 'DOV', 'IEX']\n",
    "start_date = '2015-01-01'\n",
    "end_date = '2024-10-15'\n",
    "\n",
    "prediction_offset = 10\n",
    "\n",
    "data = m.ticker_iter(tickers, start_date, end_date, buy_threshold=0.03)"
   ]
  },
  {
   "cell_type": "code",
   "execution_count": 5,
   "metadata": {},
   "outputs": [
    {
     "name": "stdout",
     "output_type": "stream",
     "text": [
      "                       Date       Open       High        Low      Close  \\\n",
      "0 2015-01-02 00:00:00-05:00  67.946537  69.024942  67.503747  67.782280   \n",
      "1 2015-01-05 00:00:00-05:00  68.017951  70.510423  66.546754  69.124924   \n",
      "2 2015-01-06 00:00:00-05:00  70.324743  70.946071  68.625005  69.739120   \n",
      "3 2015-01-07 00:00:00-05:00  70.924622  71.345988  70.303294  71.046036   \n",
      "4 2015-01-08 00:00:00-05:00  71.988767  73.167150  71.624536  73.060028   \n",
      "\n",
      "  Adj Close    Volume Dividends Stock Splits Ticker  ...  40_return  \\\n",
      "0       NaN  12340200       NaN          NaN   GILD  ...          1   \n",
      "1       NaN  27530400       NaN          NaN   GILD  ...          1   \n",
      "2       NaN  22363800       NaN          NaN   GILD  ...          1   \n",
      "3       NaN  16373700       NaN          NaN   GILD  ...          1   \n",
      "4       NaN  18902300       NaN          NaN   GILD  ...          0   \n",
      "\n",
      "   50_return  60_return  70_return  80_return  90_return  100_return  year  \\\n",
      "0          1          1          1          1          1           1  2015   \n",
      "1          1          0          1          1          1           1  2015   \n",
      "2          1          0          1          1          1           1  2015   \n",
      "3          0          0          0          1          1           1  2015   \n",
      "4          0          0          0          0          1           1  2015   \n",
      "\n",
      "   month  quarter  \n",
      "0      1        1  \n",
      "1      1        1  \n",
      "2      1        1  \n",
      "3      1        1  \n",
      "4      1        1  \n",
      "\n",
      "[5 rows x 46 columns]\n"
     ]
    }
   ],
   "source": [
    "print(data.head())"
   ]
  },
  {
   "cell_type": "code",
   "execution_count": null,
   "metadata": {},
   "outputs": [],
   "source": [
    "data = m.encode_tickers(data)"
   ]
  },
  {
   "cell_type": "code",
   "execution_count": null,
   "metadata": {},
   "outputs": [],
   "source": [
    "# testing running the random forrest model\n",
    "\n",
    "preds = m.basic_rf(data, target = '30_return')"
   ]
  },
  {
   "cell_type": "code",
   "execution_count": null,
   "metadata": {},
   "outputs": [],
   "source": [
    "models, fis, preds = m.period_iterator(data, debug=True, warm_start= True)"
   ]
  },
  {
   "cell_type": "code",
   "execution_count": null,
   "metadata": {},
   "outputs": [],
   "source": [
    "# testing splitting the data into training and prediction sets\n",
    "\n",
    "train, test = m.build_data_split(data, prediction_offset)"
   ]
  },
  {
   "cell_type": "code",
   "execution_count": null,
   "metadata": {},
   "outputs": [],
   "source": [
    "print(data.columns)"
   ]
  }
 ],
 "metadata": {
  "kernelspec": {
   "display_name": "base",
   "language": "python",
   "name": "python3"
  },
  "language_info": {
   "codemirror_mode": {
    "name": "ipython",
    "version": 3
   },
   "file_extension": ".py",
   "mimetype": "text/x-python",
   "name": "python",
   "nbconvert_exporter": "python",
   "pygments_lexer": "ipython3",
   "version": "3.11.5"
  }
 },
 "nbformat": 4,
 "nbformat_minor": 2
}
