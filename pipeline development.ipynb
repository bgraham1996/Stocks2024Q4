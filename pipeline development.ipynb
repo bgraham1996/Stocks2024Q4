{
 "cells": [
  {
   "cell_type": "code",
   "execution_count": 1,
   "metadata": {},
   "outputs": [],
   "source": [
    "import pandas as pd\n",
    "import numpy as np\n",
    "import main as m\n"
   ]
  },
  {
   "cell_type": "code",
   "execution_count": 2,
   "metadata": {},
   "outputs": [],
   "source": [
    "start_date = '2022-01-01'\n",
    "end_date = '2024-12-26'\n",
    "\n",
    "tickers = ['AAPL', 'PFE', 'BMY']\n",
    "\n"
   ]
  },
  {
   "cell_type": "code",
   "execution_count": 3,
   "metadata": {},
   "outputs": [
    {
     "name": "stdout",
     "output_type": "stream",
     "text": [
      "AAPL\n",
      "AAPL\n",
      "<class 'pandas.core.frame.DataFrame'>\n",
      "Data Downloaded and Processed\n",
      "PFE\n",
      "PFE\n",
      "<class 'pandas.core.frame.DataFrame'>\n",
      "Data Downloaded and Processed\n",
      "BMY\n",
      "BMY\n",
      "<class 'pandas.core.frame.DataFrame'>\n",
      "Data Downloaded and Processed\n"
     ]
    }
   ],
   "source": [
    "data = m.ticker_iter(ticker_list=tickers, start_date=start_date, end_date=end_date, buy_threshold=0.05, debug=True)"
   ]
  },
  {
   "cell_type": "code",
   "execution_count": 4,
   "metadata": {},
   "outputs": [
    {
     "name": "stdout",
     "output_type": "stream",
     "text": [
      "                       Date        Open        High         Low       Close  \\\n",
      "0 2022-01-03 00:00:00-05:00  174.963974  179.932588  174.845913  179.076599   \n",
      "1 2022-01-04 00:00:00-05:00  179.686635  179.991636  176.233194  176.803848   \n",
      "2 2022-01-05 00:00:00-05:00  176.715260  177.266232  171.825359  172.100845   \n",
      "3 2022-01-06 00:00:00-05:00  169.916620  172.474723  168.873707  169.227905   \n",
      "4 2022-01-07 00:00:00-05:00  170.103585  171.333439  168.273561  169.395187   \n",
      "5 2022-01-10 00:00:00-05:00  166.354979  169.719857  165.459641  169.414856   \n",
      "6 2022-01-11 00:00:00-05:00  169.542758  172.356650  168.066933  172.258270   \n",
      "7 2022-01-12 00:00:00-05:00  173.281522  174.324436  172.002486  172.701035   \n",
      "8 2022-01-13 00:00:00-05:00  172.946993  173.773451  169.021294  169.414856   \n",
      "9 2022-01-14 00:00:00-05:00  168.578587  170.979265  168.332616  170.280716   \n",
      "\n",
      "  Adj Close     Volume Dividends Stock Splits Ticker  ...  15_return  \\\n",
      "0       NaN  104487900       NaN          NaN   AAPL  ...          0   \n",
      "1       NaN   99310400       NaN          NaN   AAPL  ...          0   \n",
      "2       NaN   94537600       NaN          NaN   AAPL  ...          0   \n",
      "3       NaN   96904000       NaN          NaN   AAPL  ...          0   \n",
      "4       NaN   86709100       NaN          NaN   AAPL  ...          0   \n",
      "5       NaN  106765600       NaN          NaN   AAPL  ...          0   \n",
      "6       NaN   76138300       NaN          NaN   AAPL  ...          0   \n",
      "7       NaN   74805200       NaN          NaN   AAPL  ...          0   \n",
      "8       NaN   84505800       NaN          NaN   AAPL  ...          0   \n",
      "9       NaN   80440800       NaN          NaN   AAPL  ...          0   \n",
      "\n",
      "   20_return  25_return  30_return  40_return  50_return  60_return  year  \\\n",
      "0          0          0          0          0          0          0  2022   \n",
      "1          0          0          0          0          0          0  2022   \n",
      "2          0          0          0          0          0          0  2022   \n",
      "3          0          0          0          0          0          0  2022   \n",
      "4          0          0          0          0          0          0  2022   \n",
      "5          0          0          0          0          0          0  2022   \n",
      "6          0          0          0          0          0          0  2022   \n",
      "7          0          0          0          0          0          0  2022   \n",
      "8          0          0          0          0          0          0  2022   \n",
      "9          0          0          0          0          0          0  2022   \n",
      "\n",
      "   month  quarter  \n",
      "0      1        1  \n",
      "1      1        1  \n",
      "2      1        1  \n",
      "3      1        1  \n",
      "4      1        1  \n",
      "5      1        1  \n",
      "6      1        1  \n",
      "7      1        1  \n",
      "8      1        1  \n",
      "9      1        1  \n",
      "\n",
      "[10 rows x 42 columns]\n"
     ]
    }
   ],
   "source": [
    "print(data.head(10))\n",
    "to_csv = data.head(10).to_csv('data.csv', index=False)"
   ]
  },
  {
   "cell_type": "code",
   "execution_count": 5,
   "metadata": {},
   "outputs": [
    {
     "name": "stdout",
     "output_type": "stream",
     "text": [
      "{-0.5: {}, -0.4: {}, -0.3: {}, -0.2: {}, -0.1: {}, 0.0: {}, 0.1: {}, 0.2: {}, 0.3: {}, 0.4: {}, 0.5: {}, 0.6: {}, 0.8: {}, 0.9: {}, 1.0: {}, 1.1: {}, 1.2: {}, 1.3: {}, 1.4: {}, 1.5: {}}\n"
     ]
    }
   ],
   "source": [
    "buy_thresholds = [-0.5, -0.4, -0.3, -0.2, -0.1, 0.0, 0.1, 0.2, 0.3, 0.4, 0.5, 0.6, 0.8, 0.9, 1.0, 1.1, 1.2, 1.3, 1.4, 1.5]\n",
    "models = {}\n",
    "for t in buy_thresholds:\n",
    "    models[t] = {}\n",
    "print(models)"
   ]
  }
 ],
 "metadata": {
  "kernelspec": {
   "display_name": "base",
   "language": "python",
   "name": "python3"
  },
  "language_info": {
   "codemirror_mode": {
    "name": "ipython",
    "version": 3
   },
   "file_extension": ".py",
   "mimetype": "text/x-python",
   "name": "python",
   "nbconvert_exporter": "python",
   "pygments_lexer": "ipython3",
   "version": "3.11.5"
  }
 },
 "nbformat": 4,
 "nbformat_minor": 2
}
