{
 "cells": [
  {
   "cell_type": "code",
   "execution_count": 1,
   "metadata": {},
   "outputs": [],
   "source": [
    "import pandas as pd\n",
    "import numpy as np\n",
    "import matplotlib.pyplot as plt\n",
    "import seaborn as sns\n",
    "import main as m"
   ]
  },
  {
   "cell_type": "code",
   "execution_count": 2,
   "metadata": {},
   "outputs": [
    {
     "name": "stdout",
     "output_type": "stream",
     "text": [
      "AAPL\n",
      "<class 'pandas.core.frame.DataFrame'>\n",
      "Data Downloaded and Processed\n",
      "MSFT\n",
      "<class 'pandas.core.frame.DataFrame'>\n",
      "Data Downloaded and Processed\n",
      "GOOGL\n",
      "<class 'pandas.core.frame.DataFrame'>\n",
      "Data Downloaded and Processed\n",
      "AMZN\n",
      "<class 'pandas.core.frame.DataFrame'>\n",
      "Data Downloaded and Processed\n"
     ]
    },
    {
     "ename": "TypeError",
     "evalue": "bad operand type for unary -: 'str'",
     "output_type": "error",
     "traceback": [
      "\u001b[0;31m---------------------------------------------------------------------------\u001b[0m",
      "\u001b[0;31mTypeError\u001b[0m                                 Traceback (most recent call last)",
      "Cell \u001b[0;32mIn[2], line 12\u001b[0m\n\u001b[1;32m      8\u001b[0m \u001b[38;5;66;03m# need to update the fucntions to pull through the desired number of tss splits\u001b[39;00m\n\u001b[1;32m     10\u001b[0m debug \u001b[38;5;241m=\u001b[39m \u001b[38;5;28;01mFalse\u001b[39;00m\n\u001b[0;32m---> 12\u001b[0m models, datasets, pred_data, feature_importances, predictions \u001b[38;5;241m=\u001b[39m m\u001b[38;5;241m.\u001b[39mRF_pipeline1(start_date\u001b[38;5;241m=\u001b[39mstart_date, \n\u001b[1;32m     13\u001b[0m                                                                                end_date\u001b[38;5;241m=\u001b[39mend_date, \n\u001b[1;32m     14\u001b[0m                                                                                tickers\u001b[38;5;241m=\u001b[39mtickers, \n\u001b[1;32m     15\u001b[0m                                                                                buy_thresholds\u001b[38;5;241m=\u001b[39mbuy_thresholds, \n\u001b[1;32m     16\u001b[0m                                                                                RF_option\u001b[38;5;241m=\u001b[39mRF_option, \n\u001b[1;32m     17\u001b[0m                                                                                debug\u001b[38;5;241m=\u001b[39mdebug,\n\u001b[1;32m     18\u001b[0m                                                                                periods\u001b[38;5;241m=\u001b[39mperiods)\n",
      "File \u001b[0;32m~/Documents/Developer/Projects/Stocks2024Q4/main/Pipelines/random_forrest_pipeline_1.py:37\u001b[0m, in \u001b[0;36mRF_pipeline1\u001b[0;34m(start_date, end_date, irl_data_offset, periods, tickers, buy_thresholds, RF_option, TSS_q, TSS_s, debug)\u001b[0m\n\u001b[1;32m     35\u001b[0m \u001b[38;5;66;03m#download the data and process it for each buy threshold and store it in a dictionary\u001b[39;00m\n\u001b[1;32m     36\u001b[0m \u001b[38;5;28;01mfor\u001b[39;00m t \u001b[38;5;129;01min\u001b[39;00m buy_thresholds:\n\u001b[0;32m---> 37\u001b[0m     data1 \u001b[38;5;241m=\u001b[39m m\u001b[38;5;241m.\u001b[39mticker_iter(tickers, start_date, buy_threshold\u001b[38;5;241m=\u001b[39mt, debug\u001b[38;5;241m=\u001b[39mdebug, end_date\u001b[38;5;241m=\u001b[39mend_date, periods\u001b[38;5;241m=\u001b[39mperiods)\n\u001b[1;32m     38\u001b[0m     threshold \u001b[38;5;241m=\u001b[39m \u001b[38;5;28mstr\u001b[39m(t)\u001b[38;5;241m.\u001b[39mreplace(\u001b[38;5;124m'\u001b[39m\u001b[38;5;124m.\u001b[39m\u001b[38;5;124m'\u001b[39m,\u001b[38;5;124m'\u001b[39m\u001b[38;5;124m_\u001b[39m\u001b[38;5;124m'\u001b[39m)\n\u001b[1;32m     39\u001b[0m     datasets[threshold] \u001b[38;5;241m=\u001b[39m data1\n",
      "File \u001b[0;32m~/Documents/Developer/Projects/Stocks2024Q4/main/utilities/ticker_iterator_v1_.py:78\u001b[0m, in \u001b[0;36mticker_iter\u001b[0;34m(ticker_list, start_date, end_date, buy_threshold, debug, periods)\u001b[0m\n\u001b[1;32m     75\u001b[0m     master_returns \u001b[38;5;241m=\u001b[39m pd\u001b[38;5;241m.\u001b[39mconcat([master_returns, dh])\n\u001b[1;32m     76\u001b[0m     \u001b[38;5;28mprint\u001b[39m(\u001b[38;5;124m'\u001b[39m\u001b[38;5;124mData Downloaded and Processed\u001b[39m\u001b[38;5;124m'\u001b[39m)\n\u001b[0;32m---> 78\u001b[0m master_returns \u001b[38;5;241m=\u001b[39m m\u001b[38;5;241m.\u001b[39mreturns_encoder(master_returns, threshold\u001b[38;5;241m=\u001b[39mbuy_threshold, periods\u001b[38;5;241m=\u001b[39mperiods)\n\u001b[1;32m     79\u001b[0m master_returns[\u001b[38;5;124m'\u001b[39m\u001b[38;5;124myear\u001b[39m\u001b[38;5;124m'\u001b[39m] \u001b[38;5;241m=\u001b[39m pd\u001b[38;5;241m.\u001b[39mDataFrame(master_returns[\u001b[38;5;124m'\u001b[39m\u001b[38;5;124mDate\u001b[39m\u001b[38;5;124m'\u001b[39m])\u001b[38;5;241m.\u001b[39mreset_index()[\u001b[38;5;124m'\u001b[39m\u001b[38;5;124mDate\u001b[39m\u001b[38;5;124m'\u001b[39m]\u001b[38;5;241m.\u001b[39mdt\u001b[38;5;241m.\u001b[39myear\n\u001b[1;32m     80\u001b[0m master_returns[\u001b[38;5;124m'\u001b[39m\u001b[38;5;124mmonth\u001b[39m\u001b[38;5;124m'\u001b[39m] \u001b[38;5;241m=\u001b[39m pd\u001b[38;5;241m.\u001b[39mDataFrame(master_returns[\u001b[38;5;124m'\u001b[39m\u001b[38;5;124mDate\u001b[39m\u001b[38;5;124m'\u001b[39m])\u001b[38;5;241m.\u001b[39mreset_index()[\u001b[38;5;124m'\u001b[39m\u001b[38;5;124mDate\u001b[39m\u001b[38;5;124m'\u001b[39m]\u001b[38;5;241m.\u001b[39mdt\u001b[38;5;241m.\u001b[39mmonth\n",
      "File \u001b[0;32m~/Documents/Developer/Projects/Stocks2024Q4/main/utilities/returns_encoder_v1_.py:9\u001b[0m, in \u001b[0;36mreturns_encoder\u001b[0;34m(data, periods, threshold)\u001b[0m\n\u001b[1;32m      7\u001b[0m p \u001b[38;5;241m=\u001b[39m \u001b[38;5;28mstr\u001b[39m(period)\n\u001b[1;32m      8\u001b[0m p_name \u001b[38;5;241m=\u001b[39m p \u001b[38;5;241m+\u001b[39m \u001b[38;5;124m'\u001b[39m\u001b[38;5;124m_return\u001b[39m\u001b[38;5;124m'\u001b[39m\n\u001b[0;32m----> 9\u001b[0m data[p_name] \u001b[38;5;241m=\u001b[39m data[\u001b[38;5;124m'\u001b[39m\u001b[38;5;124mavg_price\u001b[39m\u001b[38;5;124m'\u001b[39m]\u001b[38;5;241m.\u001b[39mshift(\u001b[38;5;241m-\u001b[39mperiod)\n\u001b[1;32m     10\u001b[0m data[p_name] \u001b[38;5;241m=\u001b[39m (data[p_name] \u001b[38;5;241m-\u001b[39m data[\u001b[38;5;124m'\u001b[39m\u001b[38;5;124mavg_price\u001b[39m\u001b[38;5;124m'\u001b[39m]) \u001b[38;5;241m/\u001b[39m data[\u001b[38;5;124m'\u001b[39m\u001b[38;5;124mavg_price\u001b[39m\u001b[38;5;124m'\u001b[39m]\n\u001b[1;32m     11\u001b[0m data[p_name] \u001b[38;5;241m=\u001b[39m data[p_name]\u001b[38;5;241m.\u001b[39mapply(\u001b[38;5;28;01mlambda\u001b[39;00m x: \u001b[38;5;241m1\u001b[39m \u001b[38;5;28;01mif\u001b[39;00m x \u001b[38;5;241m>\u001b[39m\u001b[38;5;241m=\u001b[39m threshold \u001b[38;5;28;01melse\u001b[39;00m \u001b[38;5;241m0\u001b[39m)\n",
      "\u001b[0;31mTypeError\u001b[0m: bad operand type for unary -: 'str'"
     ]
    }
   ],
   "source": [
    "start_date = '2019-01-01'\n",
    "end_date = '2020-01-01'\n",
    "tickers = ['AAPL', 'MSFT', 'GOOGL', 'AMZN']\n",
    "buy_thresholds = [0.01, 0.02, 0.03, 0.04, 0.05, 0.06, 0.07, 0.08, 0.09, 0.1]\n",
    "RF_option = 'warm_start'\n",
    "periods = ['5', '10', '80']\n",
    "\n",
    "# need to update the fucntions to pull through the desired number of tss splits\n",
    "\n",
    "debug = False\n",
    "\n",
    "models, datasets, pred_data, feature_importances, predictions = m.RF_pipeline1(start_date=start_date, \n",
    "                                                                               end_date=end_date, \n",
    "                                                                               tickers=tickers, \n",
    "                                                                               buy_thresholds=buy_thresholds, \n",
    "                                                                               RF_option=RF_option, \n",
    "                                                                               debug=debug,\n",
    "                                                                               periods=periods)"
   ]
  }
 ],
 "metadata": {
  "kernelspec": {
   "display_name": "base",
   "language": "python",
   "name": "python3"
  },
  "language_info": {
   "codemirror_mode": {
    "name": "ipython",
    "version": 3
   },
   "file_extension": ".py",
   "mimetype": "text/x-python",
   "name": "python",
   "nbconvert_exporter": "python",
   "pygments_lexer": "ipython3",
   "version": "3.11.5"
  }
 },
 "nbformat": 4,
 "nbformat_minor": 2
}
