{
 "cells": [
  {
   "cell_type": "code",
   "execution_count": 1,
   "metadata": {},
   "outputs": [],
   "source": [
    "import pandas as pd\n",
    "import numpy as np\n",
    "import matplotlib.pyplot as plt\n",
    "import seaborn as sns\n",
    "import main as m"
   ]
  },
  {
   "cell_type": "code",
   "execution_count": 2,
   "metadata": {},
   "outputs": [
    {
     "ename": "TypeError",
     "evalue": "ticker_iter() missing 1 required positional argument: 'end_date'",
     "output_type": "error",
     "traceback": [
      "\u001b[0;31m---------------------------------------------------------------------------\u001b[0m",
      "\u001b[0;31mTypeError\u001b[0m                                 Traceback (most recent call last)",
      "Cell \u001b[0;32mIn[2], line 11\u001b[0m\n\u001b[1;32m      7\u001b[0m \u001b[38;5;66;03m# need to update the fucntions to pull through the desired number of tss splits\u001b[39;00m\n\u001b[1;32m      9\u001b[0m debug \u001b[38;5;241m=\u001b[39m \u001b[38;5;28;01mFalse\u001b[39;00m\n\u001b[0;32m---> 11\u001b[0m models, datasets, pred_data, feature_importances, predictions \u001b[38;5;241m=\u001b[39m m\u001b[38;5;241m.\u001b[39mRF_pipeline1(start_date\u001b[38;5;241m=\u001b[39mstart_date, end_date\u001b[38;5;241m=\u001b[39mend_date, tickers\u001b[38;5;241m=\u001b[39mtickers, buy_thresholds\u001b[38;5;241m=\u001b[39mbuy_thresholds, RF_option\u001b[38;5;241m=\u001b[39mRF_option, debug\u001b[38;5;241m=\u001b[39mdebug)\n",
      "File \u001b[0;32m~/Documents/Developer/Projects/Stocks2024Q4/main/Pipelines/random_forrest_pipeline_1.py:37\u001b[0m, in \u001b[0;36mRF_pipeline1\u001b[0;34m(start_date, end_date, irl_data_offset, periods, tickers, buy_thresholds, RF_option, TSS_q, TSS_s, debug)\u001b[0m\n\u001b[1;32m     35\u001b[0m \u001b[38;5;66;03m#download the data and process it for each buy threshold and store it in a dictionary\u001b[39;00m\n\u001b[1;32m     36\u001b[0m \u001b[38;5;28;01mfor\u001b[39;00m t \u001b[38;5;129;01min\u001b[39;00m buy_thresholds:\n\u001b[0;32m---> 37\u001b[0m     data1 \u001b[38;5;241m=\u001b[39m m\u001b[38;5;241m.\u001b[39mticker_iter(tickers, start_date, buy_threshold\u001b[38;5;241m=\u001b[39mt, debug\u001b[38;5;241m=\u001b[39mdebug)\n\u001b[1;32m     38\u001b[0m     threshold \u001b[38;5;241m=\u001b[39m \u001b[38;5;28mstr\u001b[39m(t)\u001b[38;5;241m.\u001b[39mreplace(\u001b[38;5;124m'\u001b[39m\u001b[38;5;124m.\u001b[39m\u001b[38;5;124m'\u001b[39m,\u001b[38;5;124m'\u001b[39m\u001b[38;5;124m_\u001b[39m\u001b[38;5;124m'\u001b[39m)\n\u001b[1;32m     39\u001b[0m     datasets[threshold] \u001b[38;5;241m=\u001b[39m data1\n",
      "\u001b[0;31mTypeError\u001b[0m: ticker_iter() missing 1 required positional argument: 'end_date'"
     ]
    }
   ],
   "source": [
    "start_date = '2019-01-01'\n",
    "end_date = '2020-01-01'\n",
    "tickers = ['AAPL', 'MSFT', 'GOOGL', 'AMZN']\n",
    "buy_thresholds = [0.1, 0.2, 0.3, 0.4, 0.5]\n",
    "RF_option = 'basic'\n",
    "\n",
    "# need to update the fucntions to pull through the desired number of tss splits\n",
    "\n",
    "debug = False\n",
    "\n",
    "models, datasets, pred_data, feature_importances, predictions = m.RF_pipeline1(start_date=start_date, end_date=end_date, tickers=tickers, buy_thresholds=buy_thresholds, RF_option=RF_option, debug=debug)"
   ]
  },
  {
   "cell_type": "code",
   "execution_count": null,
   "metadata": {},
   "outputs": [],
   "source": []
  }
 ],
 "metadata": {
  "kernelspec": {
   "display_name": "base",
   "language": "python",
   "name": "python3"
  },
  "language_info": {
   "codemirror_mode": {
    "name": "ipython",
    "version": 3
   },
   "file_extension": ".py",
   "mimetype": "text/x-python",
   "name": "python",
   "nbconvert_exporter": "python",
   "pygments_lexer": "ipython3",
   "version": "3.11.5"
  }
 },
 "nbformat": 4,
 "nbformat_minor": 2
}
